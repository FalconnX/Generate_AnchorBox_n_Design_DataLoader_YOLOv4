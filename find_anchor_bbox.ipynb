{
  "nbformat": 4,
  "nbformat_minor": 0,
  "metadata": {
    "kernelspec": {
      "display_name": "Python 3",
      "language": "python",
      "name": "python3"
    },
    "language_info": {
      "codemirror_mode": {
        "name": "ipython",
        "version": 3
      },
      "file_extension": ".py",
      "mimetype": "text/x-python",
      "name": "python",
      "nbconvert_exporter": "python",
      "pygments_lexer": "ipython3",
      "version": "3.8.3"
    },
    "colab": {
      "name": "find_anchor_bbox.ipynb",
      "provenance": [],
      "collapsed_sections": []
    }
  },
  "cells": [
    {
      "cell_type": "markdown",
      "metadata": {
        "id": "vkYIACGkNy9R"
      },
      "source": [
        "## Select Anchor Box for given Dataset"
      ]
    },
    {
      "cell_type": "code",
      "metadata": {
        "id": "RLr75rNANxy1"
      },
      "source": [
        "from sklearn.cluster import KMeans \n",
        "from sklearn import metrics \n",
        "import numpy as np \n",
        "import matplotlib.pyplot as plt\n",
        "import pandas as pd\n",
        "from scipy.spatial.distance import cdist"
      ],
      "execution_count": null,
      "outputs": []
    },
    {
      "cell_type": "code",
      "metadata": {
        "id": "IuPdjgqPItSh"
      },
      "source": [
        "!unzip -q labels.zip"
      ],
      "execution_count": null,
      "outputs": []
    },
    {
      "cell_type": "code",
      "metadata": {
        "id": "u3DuN4dbItS9",
        "outputId": "f40b1db7-bd94-4342-9ab8-994a4584deff",
        "colab": {
          "base_uri": "https://localhost:8080/",
          "height": 49
        }
      },
      "source": [
        "import pandas as pd\n",
        "df = pd.DataFrame(columns=['Width', 'Height'])\n",
        "df"
      ],
      "execution_count": null,
      "outputs": [
        {
          "output_type": "execute_result",
          "data": {
            "text/html": [
              "<div>\n",
              "<style scoped>\n",
              "    .dataframe tbody tr th:only-of-type {\n",
              "        vertical-align: middle;\n",
              "    }\n",
              "\n",
              "    .dataframe tbody tr th {\n",
              "        vertical-align: top;\n",
              "    }\n",
              "\n",
              "    .dataframe thead th {\n",
              "        text-align: right;\n",
              "    }\n",
              "</style>\n",
              "<table border=\"1\" class=\"dataframe\">\n",
              "  <thead>\n",
              "    <tr style=\"text-align: right;\">\n",
              "      <th></th>\n",
              "      <th>Width</th>\n",
              "      <th>Height</th>\n",
              "    </tr>\n",
              "  </thead>\n",
              "  <tbody>\n",
              "  </tbody>\n",
              "</table>\n",
              "</div>"
            ],
            "text/plain": [
              "Empty DataFrame\n",
              "Columns: [Width, Height]\n",
              "Index: []"
            ]
          },
          "metadata": {
            "tags": []
          },
          "execution_count": 3
        }
      ]
    },
    {
      "cell_type": "code",
      "metadata": {
        "id": "u5VkPEH1K8Ci",
        "outputId": "84f2b022-ce24-4434-8fb1-a4a64d11ecab",
        "colab": {
          "base_uri": "https://localhost:8080/",
          "height": 34
        }
      },
      "source": [
        "!cat labels/00bf37cdc7ae8d10.txt  #class_id,x,y,w,h"
      ],
      "execution_count": null,
      "outputs": [
        {
          "output_type": "stream",
          "text": [
            "1 0.5301865 0.565885 0.9392389999999999 0.8132780000000001\n"
          ],
          "name": "stdout"
        }
      ]
    },
    {
      "cell_type": "code",
      "metadata": {
        "id": "f9jk1v_1ItTL"
      },
      "source": [
        "import glob2\n",
        "filelist = glob2.glob(\"labels/*txt\")\n",
        "index = 0\n",
        "\n",
        "for myfile in filelist:\n",
        "    file_open = open(myfile,'r').read().splitlines()\n",
        "    for line in file_open:\n",
        "        params = line.split(\" \")\n",
        "        width  = params[3]\n",
        "        height = params[4]\n",
        "        df.loc[index] = [width,height]\n",
        "        index +=1"
      ],
      "execution_count": null,
      "outputs": []
    },
    {
      "cell_type": "code",
      "metadata": {
        "id": "9jXIlLYKLJWE",
        "outputId": "4f1e98e8-9892-4e4e-e5b3-f8c48e65b477",
        "colab": {
          "base_uri": "https://localhost:8080/",
          "height": 359
        }
      },
      "source": [
        "df.head(10)"
      ],
      "execution_count": null,
      "outputs": [
        {
          "output_type": "execute_result",
          "data": {
            "text/html": [
              "<div>\n",
              "<style scoped>\n",
              "    .dataframe tbody tr th:only-of-type {\n",
              "        vertical-align: middle;\n",
              "    }\n",
              "\n",
              "    .dataframe tbody tr th {\n",
              "        vertical-align: top;\n",
              "    }\n",
              "\n",
              "    .dataframe thead th {\n",
              "        text-align: right;\n",
              "    }\n",
              "</style>\n",
              "<table border=\"1\" class=\"dataframe\">\n",
              "  <thead>\n",
              "    <tr style=\"text-align: right;\">\n",
              "      <th></th>\n",
              "      <th>Width</th>\n",
              "      <th>Height</th>\n",
              "    </tr>\n",
              "  </thead>\n",
              "  <tbody>\n",
              "    <tr>\n",
              "      <th>0</th>\n",
              "      <td>1.0</td>\n",
              "      <td>0.774893</td>\n",
              "    </tr>\n",
              "    <tr>\n",
              "      <th>1</th>\n",
              "      <td>0.954415</td>\n",
              "      <td>0.39250199999999996</td>\n",
              "    </tr>\n",
              "    <tr>\n",
              "      <th>2</th>\n",
              "      <td>0.549857</td>\n",
              "      <td>0.7136530000000001</td>\n",
              "    </tr>\n",
              "    <tr>\n",
              "      <th>3</th>\n",
              "      <td>0.85505</td>\n",
              "      <td>0.804901</td>\n",
              "    </tr>\n",
              "    <tr>\n",
              "      <th>4</th>\n",
              "      <td>0.999231</td>\n",
              "      <td>0.999854</td>\n",
              "    </tr>\n",
              "    <tr>\n",
              "      <th>5</th>\n",
              "      <td>0.903372</td>\n",
              "      <td>0.36330699999999994</td>\n",
              "    </tr>\n",
              "    <tr>\n",
              "      <th>6</th>\n",
              "      <td>0.9411280000000001</td>\n",
              "      <td>0.688724</td>\n",
              "    </tr>\n",
              "    <tr>\n",
              "      <th>7</th>\n",
              "      <td>0.9854839999999999</td>\n",
              "      <td>0.45038600000000006</td>\n",
              "    </tr>\n",
              "    <tr>\n",
              "      <th>8</th>\n",
              "      <td>1.0</td>\n",
              "      <td>0.695664</td>\n",
              "    </tr>\n",
              "    <tr>\n",
              "      <th>9</th>\n",
              "      <td>0.47546399999999994</td>\n",
              "      <td>0.794102</td>\n",
              "    </tr>\n",
              "  </tbody>\n",
              "</table>\n",
              "</div>"
            ],
            "text/plain": [
              "                 Width               Height\n",
              "0                  1.0             0.774893\n",
              "1             0.954415  0.39250199999999996\n",
              "2             0.549857   0.7136530000000001\n",
              "3              0.85505             0.804901\n",
              "4             0.999231             0.999854\n",
              "5             0.903372  0.36330699999999994\n",
              "6   0.9411280000000001             0.688724\n",
              "7   0.9854839999999999  0.45038600000000006\n",
              "8                  1.0             0.695664\n",
              "9  0.47546399999999994             0.794102"
            ]
          },
          "metadata": {
            "tags": []
          },
          "execution_count": 6
        }
      ]
    },
    {
      "cell_type": "code",
      "metadata": {
        "id": "PsXVPQLcItTZ",
        "outputId": "30b2a7bd-f60f-43ae-d535-b9289ed7ea57",
        "colab": {
          "base_uri": "https://localhost:8080/",
          "height": 187
        }
      },
      "source": [
        "X = df.to_numpy()\n",
        "X = X.astype('float64')\n",
        "X.dtype\n",
        "X[:10]"
      ],
      "execution_count": null,
      "outputs": [
        {
          "output_type": "execute_result",
          "data": {
            "text/plain": [
              "array([[1.      , 0.774893],\n",
              "       [0.954415, 0.392502],\n",
              "       [0.549857, 0.713653],\n",
              "       [0.85505 , 0.804901],\n",
              "       [0.999231, 0.999854],\n",
              "       [0.903372, 0.363307],\n",
              "       [0.941128, 0.688724],\n",
              "       [0.985484, 0.450386],\n",
              "       [1.      , 0.695664],\n",
              "       [0.475464, 0.794102]])"
            ]
          },
          "metadata": {
            "tags": []
          },
          "execution_count": 10
        }
      ]
    },
    {
      "cell_type": "markdown",
      "metadata": {
        "id": "m8l19NsINYdq"
      },
      "source": [
        "## Decide suitable number of anchor "
      ]
    },
    {
      "cell_type": "code",
      "metadata": {
        "id": "J3x-KfNeItUX"
      },
      "source": [
        "import numpy as np\n",
        "\n",
        "# Given centroids find the maximum IOU of a bbox\n",
        "def maximum_iou(box, centroids):\n",
        "    x = np.minimum(np.exp(centroids[:, 0]), np.exp(box[0]))\n",
        "    y = np.minimum(np.exp(centroids[:, 1]), np.exp(box[1]))\n",
        "\n",
        "    intersection = x * y\n",
        "    box_area = np.exp(box[0]) * np.exp(box[1])\n",
        "    centroid_area = np.exp(centroids[:, 0]) * np.exp(centroids[:, 1])\n",
        "\n",
        "    iou_ = intersection / (box_area + centroid_area - intersection)\n",
        "    #return iou_\n",
        "    return (np.max(iou_), np.argmax(iou_))\n"
      ],
      "execution_count": null,
      "outputs": []
    },
    {
      "cell_type": "code",
      "metadata": {
        "id": "w_NclAHVItVf",
        "outputId": "7ab9016d-f842-4667-9fe4-b408d01b95f1",
        "colab": {
          "base_uri": "https://localhost:8080/",
          "height": 295
        }
      },
      "source": [
        "IOU=[]\n",
        "centroids = {}\n",
        "\n",
        "K = range(1,10)\n",
        "for k in K:\n",
        "    kmeanModel = KMeans(n_clusters=k).fit(X)\n",
        "    kmeanModel.fit(X)\n",
        "    centroids[k] = kmeanModel.cluster_centers_\n",
        "    maxiou = np.array([maximum_iou(b, centroids[k])  for b in X])\n",
        "    iou_avg = np.mean(maxiou[:, 0])\n",
        "    IOU.append(iou_avg)\n",
        "\n",
        "# Plot the elbow\n",
        "plt.plot(K, IOU,'.-')\n",
        "plt.xlabel('k')\n",
        "plt.ylabel('IOU')\n",
        "plt.title('IOU vs no. of cluster')\n",
        "plt.show()"
      ],
      "execution_count": null,
      "outputs": [
        {
          "output_type": "display_data",
          "data": {
            "image/png": "[encoded data removed]",
            "text/plain": [
              "<Figure size 432x288 with 1 Axes>"
            ]
          },
          "metadata": {
            "tags": [],
            "needs_background": "light"
          }
        }
      ]
    },
    {
      "cell_type": "markdown",
      "metadata": {
        "id": "TU1YHUaHL-BJ"
      },
      "source": [
        "##  Visualize anchor_bbox dimesion for Selected Number of Anchor (K=3)\n"
      ]
    },
    {
      "cell_type": "code",
      "metadata": {
        "id": "V-meDD5fItVp",
        "outputId": "8b65e5b8-17e6-47aa-c945-1275c560b83a",
        "colab": {
          "base_uri": "https://localhost:8080/",
          "height": 68
        }
      },
      "source": [
        "centroids[3]"
      ],
      "execution_count": null,
      "outputs": [
        {
          "output_type": "execute_result",
          "data": {
            "text/plain": [
              "array([[0.18547305, 0.15784538],\n",
              "       [0.89261096, 0.63258077],\n",
              "       [0.49992282, 0.55533295]])"
            ]
          },
          "metadata": {
            "tags": []
          },
          "execution_count": 18
        }
      ]
    },
    {
      "cell_type": "code",
      "metadata": {
        "id": "tyaXoK_yItVy",
        "outputId": "38c1cff2-60d9-4739-9715-f54b5afe0c83",
        "colab": {
          "base_uri": "https://localhost:8080/",
          "height": 296
        }
      },
      "source": [
        "cl3 = KMeans(3)\n",
        "cl3.fit(X)\n",
        "\n",
        "plt.scatter(list(X[:,0]), list(X[:,1]), marker=\"v\",c=list(cl3.labels_.astype(float)), label = \"data\")\n",
        "plt.scatter(cl3.cluster_centers_[:,0] ,cl3.cluster_centers_[:,1], color='red',s = 100,marker = 'o', label='centroids')\n",
        "plt.legend()\n",
        "plt.xlabel('box_width')\n",
        "plt.ylabel('box_height')\n",
        "plt.title('K Means for k = 3')\n",
        "plt.legend()\n",
        "plt.show()"
      ],
      "execution_count": null,
      "outputs": [
        {
          "output_type": "display_data",
          "data": {
            "image/png": "[encoded data removed]",
            "text/plain": [
              "<Figure size 432x288 with 1 Axes>"
            ]
          },
          "metadata": {
            "tags": [],
            "needs_background": "light"
          }
        }
      ]
    },
    {
      "cell_type": "code",
      "metadata": {
        "id": "FQ4eT5xnItV6",
        "outputId": "bc8afbb2-0772-4764-ab3c-4aecf840d1c7",
        "colab": {
          "base_uri": "https://localhost:8080/",
          "height": 68
        }
      },
      "source": [
        "img_size =320\n",
        "k = 3 # selected num_anchor box\n",
        "anchors = (centroids[k] * img_size).astype('int32')\n",
        "print(\"anchors\",anchors)"
      ],
      "execution_count": null,
      "outputs": [
        {
          "output_type": "stream",
          "text": [
            "anchors [[ 59  50]\n",
            " [285 202]\n",
            " [159 177]]\n"
          ],
          "name": "stdout"
        }
      ]
    },
    {
      "cell_type": "code",
      "metadata": {
        "id": "jr_N4woDItWC",
        "outputId": "65a1fc0b-b66f-4898-ce80-5dad0323d445",
        "colab": {
          "base_uri": "https://localhost:8080/",
          "height": 51
        }
      },
      "source": [
        "anchors = [\n",
        "           [[ 59 , 50]],\n",
        "           [[159 , 177]],\n",
        "           [[285 , 202]]\n",
        "           ]\n",
        "print(\"Selected Anchors for 320x320 resized Image \\n\",anchors)"
      ],
      "execution_count": null,
      "outputs": [
        {
          "output_type": "stream",
          "text": [
            "Selected Anchors for 320x320 resized Image \n",
            " [[[59, 50]], [[159, 177]], [[285, 202]]]\n"
          ],
          "name": "stdout"
        }
      ]
    }
  ]
}